{
  "nbformat": 4,
  "nbformat_minor": 0,
  "metadata": {
    "colab": {
      "provenance": [],
      "collapsed_sections": [
        "PfnqVYOuZbsP",
        "gBHVRErubpC7",
        "5S-PZ32xdibW"
      ],
      "include_colab_link": true
    },
    "kernelspec": {
      "name": "python3",
      "display_name": "Python 3"
    },
    "language_info": {
      "name": "python"
    }
  },
  "cells": [
    {
      "cell_type": "markdown",
      "metadata": {
        "id": "view-in-github",
        "colab_type": "text"
      },
      "source": [
        "<a href=\"https://colab.research.google.com/github/sinajahangir/Cload-Data-Retrieval/blob/main/NLDASRetrieval_v1.ipynb\" target=\"_parent\"><img src=\"https://colab.research.google.com/assets/colab-badge.svg\" alt=\"Open In Colab\"/></a>"
      ]
    },
    {
      "cell_type": "markdown",
      "source": [
        "First version: August 2025\n",
        "Sina Jahangir\n",
        "\n",
        "Downloads and processes North American Land Data Assimilation System (NLDAS-2) data using Google Earth Engine (GEE) API.\n",
        "\n",
        "The data are in 1/8th-degree grid spacing; the temporal resolution is hourly.\n",
        "\n",
        "Extracts time-series data for points (x,y)\n",
        "\n",
        "Saves results to a Pandas DataFrame for analysis or plotting\n",
        "\n",
        "Reference:\n",
        "NLDAS is a collaboration project among several groups: NOAA/NCEP''s Environmental Modeling Center (EMC), NASA''s Goddard Space Flight Center (GSFC), Princeton University, the University of Washington, the NOAA/NWS Office of Hydrological Development (OHD), and the NOAA/NCEP Climate Prediction Center (CPC). NLDAS is a core project with support from NOAA''s Climate Prediction Program for the Americas (CPPA).\n",
        "\n",
        "Key Features:\n",
        "\n",
        "✅ Custom data pre-process (feature selection)\n",
        "\n",
        "✅ Modular fraemwrok for efficiency and reproducibility\n",
        "\n",
        "✅ GEE utilization through Google Cloud\n",
        "\n",
        "MIT License\n",
        "Copyright (c) [2025] [Sina Jahangir]\n",
        "\n",
        "Permission is hereby granted, free of charge, to any person obtaining a copy of this software and associated documentation files (the \"Software\"), to deal in the Software without restriction, including without limitation the rights to use, copy, modify, merge, publish, distribute, sublicense, and/or sell copies of the Software, and to permit persons to whom the Software is furnished to do so, subject to the following conditions:\n",
        "\n",
        "The above copyright notice and this permission notice shall be included in all copies or substantial portions of the Software.\n",
        "\n",
        "THE SOFTWARE IS PROVIDED \"AS IS\", WITHOUT WARRANTY OF ANY KIND, EXPRESS OR IMPLIED, INCLUDING BUT NOT LIMITED TO THE WARRANTIES OF MERCHANTABILITY, FITNESS FOR A PARTICULAR PURPOSE AND NONINFRINGEMENT. IN NO EVENT SHALL THE AUTHORS OR COPYRIGHT HOLDERS BE LIABLE FOR ANY CLAIM, DAMAGES OR OTHER LIABILITY, WHETHER IN AN ACTION OF CONTRACT, TORT OR OTHERWISE, ARISING FROM, OUT OF OR IN CONNECTION WITH THE SOFTWARE OR THE USE OR OTHER DEALINGS IN THE SOFTWARE."
      ],
      "metadata": {
        "id": "_FBqdK9wBaLH"
      }
    },
    {
      "cell_type": "markdown",
      "source": [
        "# Install dependencies"
      ],
      "metadata": {
        "id": "PfnqVYOuZbsP"
      }
    },
    {
      "cell_type": "code",
      "source": [
        "# Install libraries\n",
        "!pip install earthengine-api # library used to access ee\n",
        "# Library import\n",
        "import ee\n",
        "import pandas as pd\n",
        "import os\n",
        "import geopandas as gpd\n",
        "import json"
      ],
      "metadata": {
        "id": "JoCSS328YcL1",
        "colab": {
          "base_uri": "https://localhost:8080/"
        },
        "outputId": "786d86a3-9145-47f5-f57e-f37ed175397f"
      },
      "execution_count": null,
      "outputs": [
        {
          "output_type": "stream",
          "name": "stdout",
          "text": [
            "Requirement already satisfied: earthengine-api in /usr/local/lib/python3.12/dist-packages (1.5.24)\n",
            "Requirement already satisfied: google-cloud-storage in /usr/local/lib/python3.12/dist-packages (from earthengine-api) (2.19.0)\n",
            "Requirement already satisfied: google-api-python-client>=1.12.1 in /usr/local/lib/python3.12/dist-packages (from earthengine-api) (2.179.0)\n",
            "Requirement already satisfied: google-auth>=1.4.1 in /usr/local/lib/python3.12/dist-packages (from earthengine-api) (2.38.0)\n",
            "Requirement already satisfied: google-auth-httplib2>=0.0.3 in /usr/local/lib/python3.12/dist-packages (from earthengine-api) (0.2.0)\n",
            "Requirement already satisfied: httplib2<1dev,>=0.9.2 in /usr/local/lib/python3.12/dist-packages (from earthengine-api) (0.22.0)\n",
            "Requirement already satisfied: requests in /usr/local/lib/python3.12/dist-packages (from earthengine-api) (2.32.4)\n",
            "Requirement already satisfied: google-api-core!=2.0.*,!=2.1.*,!=2.2.*,!=2.3.0,<3.0.0,>=1.31.5 in /usr/local/lib/python3.12/dist-packages (from google-api-python-client>=1.12.1->earthengine-api) (2.25.1)\n",
            "Requirement already satisfied: uritemplate<5,>=3.0.1 in /usr/local/lib/python3.12/dist-packages (from google-api-python-client>=1.12.1->earthengine-api) (4.2.0)\n",
            "Requirement already satisfied: cachetools<6.0,>=2.0.0 in /usr/local/lib/python3.12/dist-packages (from google-auth>=1.4.1->earthengine-api) (5.5.2)\n",
            "Requirement already satisfied: pyasn1-modules>=0.2.1 in /usr/local/lib/python3.12/dist-packages (from google-auth>=1.4.1->earthengine-api) (0.4.2)\n",
            "Requirement already satisfied: rsa<5,>=3.1.4 in /usr/local/lib/python3.12/dist-packages (from google-auth>=1.4.1->earthengine-api) (4.9.1)\n",
            "Requirement already satisfied: pyparsing!=3.0.0,!=3.0.1,!=3.0.2,!=3.0.3,<4,>=2.4.2 in /usr/local/lib/python3.12/dist-packages (from httplib2<1dev,>=0.9.2->earthengine-api) (3.2.3)\n",
            "Requirement already satisfied: google-cloud-core<3.0dev,>=2.3.0 in /usr/local/lib/python3.12/dist-packages (from google-cloud-storage->earthengine-api) (2.4.3)\n",
            "Requirement already satisfied: google-resumable-media>=2.7.2 in /usr/local/lib/python3.12/dist-packages (from google-cloud-storage->earthengine-api) (2.7.2)\n",
            "Requirement already satisfied: google-crc32c<2.0dev,>=1.0 in /usr/local/lib/python3.12/dist-packages (from google-cloud-storage->earthengine-api) (1.7.1)\n",
            "Requirement already satisfied: charset_normalizer<4,>=2 in /usr/local/lib/python3.12/dist-packages (from requests->earthengine-api) (3.4.3)\n",
            "Requirement already satisfied: idna<4,>=2.5 in /usr/local/lib/python3.12/dist-packages (from requests->earthengine-api) (3.10)\n",
            "Requirement already satisfied: urllib3<3,>=1.21.1 in /usr/local/lib/python3.12/dist-packages (from requests->earthengine-api) (2.5.0)\n",
            "Requirement already satisfied: certifi>=2017.4.17 in /usr/local/lib/python3.12/dist-packages (from requests->earthengine-api) (2025.8.3)\n",
            "Requirement already satisfied: googleapis-common-protos<2.0.0,>=1.56.2 in /usr/local/lib/python3.12/dist-packages (from google-api-core!=2.0.*,!=2.1.*,!=2.2.*,!=2.3.0,<3.0.0,>=1.31.5->google-api-python-client>=1.12.1->earthengine-api) (1.70.0)\n",
            "Requirement already satisfied: protobuf!=3.20.0,!=3.20.1,!=4.21.0,!=4.21.1,!=4.21.2,!=4.21.3,!=4.21.4,!=4.21.5,<7.0.0,>=3.19.5 in /usr/local/lib/python3.12/dist-packages (from google-api-core!=2.0.*,!=2.1.*,!=2.2.*,!=2.3.0,<3.0.0,>=1.31.5->google-api-python-client>=1.12.1->earthengine-api) (5.29.5)\n",
            "Requirement already satisfied: proto-plus<2.0.0,>=1.22.3 in /usr/local/lib/python3.12/dist-packages (from google-api-core!=2.0.*,!=2.1.*,!=2.2.*,!=2.3.0,<3.0.0,>=1.31.5->google-api-python-client>=1.12.1->earthengine-api) (1.26.1)\n",
            "Requirement already satisfied: pyasn1<0.7.0,>=0.6.1 in /usr/local/lib/python3.12/dist-packages (from pyasn1-modules>=0.2.1->google-auth>=1.4.1->earthengine-api) (0.6.1)\n"
          ]
        }
      ]
    },
    {
      "cell_type": "markdown",
      "source": [
        "# Access GEE"
      ],
      "metadata": {
        "id": "gBHVRErubpC7"
      }
    },
    {
      "cell_type": "code",
      "source": [
        "# Initialization\n",
        "## Google Authentication\n",
        "ee.Authenticate()  # Authenticate with your Google account\n",
        "## Google Earth's API\n",
        "# Initialize the library\n",
        "#change based on your defined project on Google cloud\n",
        "ee.Initialize(project='earthengine-433017')\n",
        "\n",
        "print(ee.String('Hello from the Earth Engine servers!').getInfo())\n",
        "## Access Google drive\n",
        "from google.colab import drive\n",
        "drive.mount('/content/drive')"
      ],
      "metadata": {
        "colab": {
          "base_uri": "https://localhost:8080/"
        },
        "id": "mV5HkP1diRws",
        "outputId": "55d2c1c8-7f58-4384-b577-66106d088f9a"
      },
      "execution_count": null,
      "outputs": [
        {
          "output_type": "stream",
          "name": "stdout",
          "text": [
            "Hello from the Earth Engine servers!\n",
            "Drive already mounted at /content/drive; to attempt to forcibly remount, call drive.mount(\"/content/drive\", force_remount=True).\n"
          ]
        }
      ]
    },
    {
      "cell_type": "markdown",
      "source": [
        "# Set settings"
      ],
      "metadata": {
        "id": "5S-PZ32xdibW"
      }
    },
    {
      "cell_type": "code",
      "source": [
        "#Change directory to where Shapefiles are saved\n",
        "# This is for data retrieval based on shapefile\n",
        "os.chdir('/content/drive/MyDrive/Bio Runoff data') #change this"
      ],
      "metadata": {
        "id": "axm3ejCS7l_t"
      },
      "execution_count": null,
      "outputs": []
    },
    {
      "cell_type": "code",
      "source": [
        "# Check if the directory exists before creating it to save the results\n",
        "'''\n",
        "Unfortunately, Google Earth Engine (GEE) Export.table.toDrive does (see below) not support subfolder paths\n",
        "(like 'parent/child') in the folder parameter.\n",
        "The folder must be a top-level folder in your Google Drive (My Drive),\n",
        "and it will not create nested folders.\n",
        "'''\n",
        "savefolder_name='Bio Runoff data'\n",
        "if not os.path.exists('/content/drive/MyDrive/%s'%(savefolder_name)):\n",
        "    os.mkdir('/content/drive/MyDrive/%s'%(savefolder_name))\n",
        "else:\n",
        "    print(\"Directory already exists.\")"
      ],
      "metadata": {
        "id": "uUJq10b9eFjn",
        "colab": {
          "base_uri": "https://localhost:8080/"
        },
        "outputId": "6f2d0675-1c0a-4ee9-98ad-874e8fc16823"
      },
      "execution_count": null,
      "outputs": [
        {
          "output_type": "stream",
          "name": "stdout",
          "text": [
            "Directory already exists.\n"
          ]
        }
      ]
    },
    {
      "cell_type": "markdown",
      "source": [
        "# Data retrieval functions"
      ],
      "metadata": {
        "id": "txuV2ipweMms"
      }
    },
    {
      "cell_type": "code",
      "execution_count": null,
      "metadata": {
        "id": "zGnIOufmW9gt"
      },
      "outputs": [],
      "source": [
        "from datetime import datetime, timedelta\n",
        "def get_dataset_for_point(lat, lon, start_date='1980-01-01', end_date='2023-12-31',save_path='Example',chunk='year'):\n",
        "    \"\"\"Retrieve and filter the DayMet dataset for a specific time range and location.\"\"\"\n",
        "    variables=[\n",
        "            \"temperature\",          # Air temperature at 2m (K)\n",
        "            \"specific_humidity\",    # Specific humidity (kg/kg)\n",
        "            \"wind_u\",               # Zonal wind (m/s)\n",
        "            \"wind_v\",               # Meridional wind (m/s)\n",
        "            \"pressure\",             # Surface pressure (Pa)\n",
        "            \"shortwave_radiation\",  # Downward shortwave radiation (W/m^2)\n",
        "            \"longwave_radiation\",   # Downward longwave radiation (W/m^2)\n",
        "            \"total_precipitation\",         # Precipitation (kg/m^2)\n",
        "            'potential_evaporation',       # Potential evaporation (kg/m^2/s)\n",
        "        ]\n",
        "    # Define the point of interest\n",
        "    point = ee.Geometry.Point(lon, lat)\n",
        "\n",
        "    # Helper: chunk time range\n",
        "    start = datetime.strptime(start_date, \"%Y-%m-%d\")\n",
        "    end = datetime.strptime(end_date, \"%Y-%m-%d\")\n",
        "\n",
        "    if chunk == \"year\":\n",
        "        step = timedelta(days=365)\n",
        "    elif chunk == \"month\":\n",
        "        step = timedelta(days=30)\n",
        "    else:\n",
        "        raise ValueError(\"chunk must be 'year' or 'month'\")\n",
        "\n",
        "    dfs = []\n",
        "    current = start\n",
        "    while current < end:\n",
        "        next_date = min(end, current + step)\n",
        "\n",
        "        dataset = (\n",
        "            ee.ImageCollection(\"NASA/NLDAS/FORA0125_H002\")\n",
        "            .filterDate(current.strftime(\"%Y-%m-%d\"), next_date.strftime(\"%Y-%m-%d\"))\n",
        "            .select(variables)\n",
        "        )\n",
        "\n",
        "        try:\n",
        "            raw = dataset.getRegion(point, scale=12500).getInfo()\n",
        "            df = pd.DataFrame(raw[1:], columns=raw[0])\n",
        "            df[\"time\"] = pd.to_datetime(df[\"time\"], unit=\"ms\")\n",
        "            df = df.sort_values(\"time\").reset_index(drop=True)\n",
        "            drop_cols = [c for c in [\"longitude\", \"latitude\", \"id\"] if c in df.columns]\n",
        "            df = df.drop(columns=drop_cols)\n",
        "            dfs.append(df)\n",
        "        except Exception as e:\n",
        "            print(f\"⚠️ Skipped {current} to {next_date}: {e}\")\n",
        "\n",
        "        current = next_date\n",
        "\n",
        "    # Combine all chunks\n",
        "    if dfs:\n",
        "        full_df = pd.concat(dfs).drop_duplicates(subset=\"time\").sort_values(\"time\").reset_index(drop=True)\n",
        "        full_df.to_csv(f'{save_path}_NLDAS.csv', index=False)\n",
        "        return full_df\n",
        "    else:\n",
        "        raise RuntimeError(\"No data retrieved.\")"
      ]
    },
    {
      "cell_type": "markdown",
      "source": [
        "# Extract and save the data as CSV file(s)"
      ],
      "metadata": {
        "id": "z63YjunnhOAZ"
      }
    },
    {
      "cell_type": "code",
      "source": [
        "df=pd.read_csv('SitesInfo.csv')\n",
        "for ii in range(5,6):\n",
        "  site=df.loc[ii,'Site']\n",
        "  print(f'Download started for {site}')\n",
        "  get_dataset_for_point(df.loc[ii,'lat'], df.loc[ii,'long'], start_date='1980-01-01', end_date='2023-12-31',save_path=df.loc[ii,'Site'])\n",
        "  print(f'Download completed for {site}')"
      ],
      "metadata": {
        "colab": {
          "base_uri": "https://localhost:8080/"
        },
        "id": "knVWC8pEH9Mc",
        "outputId": "fd5d33f1-d140-4a04-fefd-1bbb5be61f1e"
      },
      "execution_count": null,
      "outputs": [
        {
          "output_type": "stream",
          "name": "stdout",
          "text": [
            "Download started for B\n",
            "Download completed for B\n"
          ]
        }
      ]
    }
  ]
}